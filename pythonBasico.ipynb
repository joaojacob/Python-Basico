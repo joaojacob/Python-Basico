{
 "cells": [
  {
   "cell_type": "markdown",
   "metadata": {},
   "source": [
    "<h1><b>Python básico</b></h1>\n",
    "\n",
    "<h4>Autor: <a href=\"https://joaojacob.github.io/curriculo/\">João Jacob</a><h4>\n",
    "\n",
    "Introdução rápida a alguns dos conceitos da linguagem de programação python"
   ]
  },
  {
   "cell_type": "code",
   "execution_count": 53,
   "metadata": {},
   "outputs": [
    {
     "name": "stdout",
     "output_type": "stream",
     "text": [
      "Bem vindo!\n"
     ]
    }
   ],
   "source": [
    "print('Bem vindo!') #escrever na tela"
   ]
  },
  {
   "cell_type": "markdown",
   "metadata": {},
   "source": [
    "<b>Entrada de valores</b>"
   ]
  },
  {
   "cell_type": "code",
   "execution_count": 55,
   "metadata": {},
   "outputs": [
    {
     "name": "stdout",
     "output_type": "stream",
     "text": [
      "Qual é a sua idade: 28\n",
      "Qual é a sua altura:1.7\n",
      "---------------------\n",
      "O valor da sua idade é :  28\n",
      "E sua altura é :  1.7\n"
     ]
    }
   ],
   "source": [
    "idade = input(\"Qual é a sua idade: \")\n",
    "altura = float(input(\"Qual é a sua altura:\"))\n",
    "print(\"---------------------\")\n",
    "print(\"O valor da sua idade é : \",idade)\n",
    "print(\"E sua altura é : \",altura)\n"
   ]
  },
  {
   "cell_type": "markdown",
   "metadata": {},
   "source": [
    "<b>Comentários </b>"
   ]
  },
  {
   "cell_type": "code",
   "execution_count": 56,
   "metadata": {},
   "outputs": [],
   "source": [
    "#comentario de uma linha"
   ]
  },
  {
   "cell_type": "code",
   "execution_count": 57,
   "metadata": {},
   "outputs": [
    {
     "data": {
      "text/plain": [
       "'comentario de multiplas linhas'"
      ]
     },
     "execution_count": 57,
     "metadata": {},
     "output_type": "execute_result"
    }
   ],
   "source": [
    "'''comentario de multiplas linhas'''\n",
    "\n",
    "\"\"\"comentario de multiplas linhas\"\"\""
   ]
  },
  {
   "cell_type": "markdown",
   "metadata": {},
   "source": [
    "<b>Variáveis</b> "
   ]
  },
  {
   "cell_type": "code",
   "execution_count": 58,
   "metadata": {},
   "outputs": [],
   "source": [
    "a = 3 #int\n",
    "b = 3.2 #float\n",
    "texto = \"isso é uma string!\""
   ]
  },
  {
   "cell_type": "code",
   "execution_count": 59,
   "metadata": {},
   "outputs": [],
   "source": [
    "#valores boleanos\n",
    "verdadeiro = True\n",
    "falso = False"
   ]
  },
  {
   "cell_type": "code",
   "execution_count": 60,
   "metadata": {},
   "outputs": [],
   "source": [
    "PI = 3.14 #convenção de utilizar maiúsculo para representar valores constantes/ não é nativo"
   ]
  },
  {
   "cell_type": "code",
   "execution_count": 61,
   "metadata": {},
   "outputs": [
    {
     "name": "stdout",
     "output_type": "stream",
     "text": [
      "<class 'int'>\n",
      "<class 'float'>\n",
      "<class 'str'>\n",
      "<class 'bool'>\n",
      "<class 'bool'>\n",
      "<class 'float'>\n"
     ]
    }
   ],
   "source": [
    "#desconbrir o tipo de uma variável\n",
    "print(type(a))\n",
    "print(type(b))\n",
    "print(type(texto))\n",
    "print(type(verdadeiro))\n",
    "print(type(falso))\n",
    "print(type(PI))"
   ]
  },
  {
   "cell_type": "markdown",
   "metadata": {},
   "source": [
    "<b>Trabalhando com diferentes tipos de variáveis</b>"
   ]
  },
  {
   "cell_type": "code",
   "execution_count": 62,
   "metadata": {},
   "outputs": [
    {
     "name": "stdout",
     "output_type": "stream",
     "text": [
      "A soma de x + y é : 18\n"
     ]
    }
   ],
   "source": [
    "soma = \"A soma de x + y é : \"\n",
    "x, y= 3, 15 # declaração de duas variáveis na mesma linha\n",
    "\n",
    "print(f'{soma}{x+y}') #Concatenando diferentes tipos de variáveis "
   ]
  },
  {
   "cell_type": "code",
   "execution_count": 63,
   "metadata": {},
   "outputs": [
    {
     "name": "stdout",
     "output_type": "stream",
     "text": [
      "Bom dia ! Bom dia ! Bom dia ! \n"
     ]
    }
   ],
   "source": [
    "print(3* \"Bom dia ! \")"
   ]
  },
  {
   "cell_type": "markdown",
   "metadata": {},
   "source": [
    "<b>Trabalhando com listas</b>"
   ]
  },
  {
   "cell_type": "code",
   "execution_count": 64,
   "metadata": {},
   "outputs": [
    {
     "name": "stdout",
     "output_type": "stream",
     "text": [
      "<class 'list'>\n"
     ]
    }
   ],
   "source": [
    "lista = [1,2,3,4] #Declaração\n",
    "print(type(lista))"
   ]
  },
  {
   "cell_type": "code",
   "execution_count": 65,
   "metadata": {},
   "outputs": [
    {
     "name": "stdout",
     "output_type": "stream",
     "text": [
      "Tamanho: 4\n"
     ]
    }
   ],
   "source": [
    "lista2 = ['A',12 , 3.89, True] #lista com diferentes tipos de variáveis\n",
    "\n",
    "print(f'{\"Tamanho: \"}{len(lista2)}')"
   ]
  },
  {
   "cell_type": "code",
   "execution_count": 66,
   "metadata": {},
   "outputs": [
    {
     "name": "stdout",
     "output_type": "stream",
     "text": [
      "[1, 2, 3, 4, 5]\n"
     ]
    }
   ],
   "source": [
    "lista.append(5) #Adicionando uma variável na lista\n",
    "print(lista)"
   ]
  },
  {
   "cell_type": "code",
   "execution_count": 67,
   "metadata": {},
   "outputs": [
    {
     "name": "stdout",
     "output_type": "stream",
     "text": [
      "1\n",
      "3\n",
      "5\n"
     ]
    }
   ],
   "source": [
    "print(lista[0]) #primeiro elemento\n",
    "print(lista[2]) #elemento na posição 2 a partir do zero\n",
    "print(lista[-1]) #Ultimo elemento da lista"
   ]
  },
  {
   "cell_type": "code",
   "execution_count": 68,
   "metadata": {},
   "outputs": [
    {
     "name": "stdout",
     "output_type": "stream",
     "text": [
      "[3, 4]\n",
      "[1, 2, 3, 4]\n",
      "[1, 2, 3, 4]\n",
      "[1, 2, 3, 4]\n",
      "[1, 2, 3]\n"
     ]
    }
   ],
   "source": [
    "print(lista[2:4]) #elementos da posição 2 a 4\n",
    "print(lista[:4]) #todos elementos até a posição 4\n",
    "print(lista[:-1]) #todos elementos até a posição 4\n",
    "print(lista[:-1]) #todos elementos até a posição 4\n",
    "print(lista[:-2]) #todos elementos até o antipenúltimo "
   ]
  },
  {
   "cell_type": "markdown",
   "metadata": {},
   "source": [
    "<b>Tuplas !</b>"
   ]
  },
  {
   "cell_type": "code",
   "execution_count": 69,
   "metadata": {},
   "outputs": [
    {
     "name": "stdout",
     "output_type": "stream",
     "text": [
      "<class 'tuple'>\n"
     ]
    }
   ],
   "source": [
    "tupla = (1,2,3,'a')\n",
    "print(type(tupla))"
   ]
  },
  {
   "cell_type": "code",
   "execution_count": 70,
   "metadata": {},
   "outputs": [
    {
     "name": "stdout",
     "output_type": "stream",
     "text": [
      "True\n"
     ]
    }
   ],
   "source": [
    "print('a' in tupla) #também vale para lista"
   ]
  },
  {
   "cell_type": "markdown",
   "metadata": {},
   "source": [
    "<b>Conjuntos !</b>"
   ]
  },
  {
   "cell_type": "code",
   "execution_count": 71,
   "metadata": {},
   "outputs": [],
   "source": [
    "conj = {1,5,5,5,8,9} "
   ]
  },
  {
   "cell_type": "code",
   "execution_count": 72,
   "metadata": {},
   "outputs": [
    {
     "data": {
      "text/plain": [
       "4"
      ]
     },
     "execution_count": 72,
     "metadata": {},
     "output_type": "execute_result"
    }
   ],
   "source": [
    "len(conj) #o tamanho do conjunto mostra o numero de diferentese valores"
   ]
  },
  {
   "cell_type": "markdown",
   "metadata": {},
   "source": [
    "<b>Dicionários !</b>"
   ]
  },
  {
   "cell_type": "code",
   "execution_count": 73,
   "metadata": {},
   "outputs": [],
   "source": [
    "aluno = {\n",
    "    'nome': 'João',\n",
    "    'nota': 10\n",
    "}"
   ]
  },
  {
   "cell_type": "code",
   "execution_count": 74,
   "metadata": {},
   "outputs": [
    {
     "data": {
      "text/plain": [
       "10"
      ]
     },
     "execution_count": 74,
     "metadata": {},
     "output_type": "execute_result"
    }
   ],
   "source": [
    "aluno['nome']\n",
    "aluno['nota']"
   ]
  },
  {
   "cell_type": "code",
   "execution_count": null,
   "metadata": {},
   "outputs": [],
   "source": []
  },
  {
   "cell_type": "code",
   "execution_count": null,
   "metadata": {},
   "outputs": [],
   "source": []
  }
 ],
 "metadata": {
  "kernelspec": {
   "display_name": "Python 3",
   "language": "python",
   "name": "python3"
  },
  "language_info": {
   "codemirror_mode": {
    "name": "ipython",
    "version": 3
   },
   "file_extension": ".py",
   "mimetype": "text/x-python",
   "name": "python",
   "nbconvert_exporter": "python",
   "pygments_lexer": "ipython3",
   "version": "3.7.7"
  }
 },
 "nbformat": 4,
 "nbformat_minor": 2
}
